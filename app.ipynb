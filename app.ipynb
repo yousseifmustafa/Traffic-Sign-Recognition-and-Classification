{
 "cells": [
  {
   "cell_type": "code",
   "execution_count": 1,
   "id": "9e2f8c7f",
   "metadata": {},
   "outputs": [
    {
     "name": "stderr",
     "output_type": "stream",
     "text": [
      "2025-05-14 01:28:09.561872: I tensorflow/tsl/cuda/cudart_stub.cc:28] Could not find cuda drivers on your machine, GPU will not be used.\n",
      "2025-05-14 01:28:10.590719: I tensorflow/tsl/cuda/cudart_stub.cc:28] Could not find cuda drivers on your machine, GPU will not be used.\n",
      "2025-05-14 01:28:10.595521: I tensorflow/core/platform/cpu_feature_guard.cc:182] This TensorFlow binary is optimized to use available CPU instructions in performance-critical operations.\n",
      "To enable the following instructions: AVX2 FMA, in other operations, rebuild TensorFlow with the appropriate compiler flags.\n",
      "2025-05-14 01:28:12.554924: W tensorflow/compiler/tf2tensorrt/utils/py_utils.cc:38] TF-TRT Warning: Could not find TensorRT\n",
      "2025-05-14 01:28:14.715425: I tensorflow/compiler/xla/stream_executor/cuda/cuda_gpu_executor.cc:995] successful NUMA node read from SysFS had negative value (-1), but there must be at least one NUMA node, so returning NUMA node zero. See more at https://github.com/torvalds/linux/blob/v6.0/Documentation/ABI/testing/sysfs-bus-pci#L344-L355\n",
      "2025-05-14 01:28:14.716278: W tensorflow/core/common_runtime/gpu/gpu_device.cc:1960] Cannot dlopen some GPU libraries. Please make sure the missing libraries mentioned above are installed properly if you would like to use GPU. Follow the guide at https://www.tensorflow.org/install/gpu for how to download and setup the required libraries for your platform.\n",
      "Skipping registering GPU devices...\n"
     ]
    },
    {
     "name": "stdout",
     "output_type": "stream",
     "text": [
      "1/1 [==============================] - 0s 193ms/step\n",
      "1/1 [==============================] - 0s 22ms/step\n",
      "1/1 [==============================] - 0s 23ms/step\n",
      "1/1 [==============================] - 0s 20ms/step\n",
      "1/1 [==============================] - 0s 21ms/step\n",
      "1/1 [==============================] - 0s 21ms/step\n"
     ]
    }
   ],
   "source": [
    "\n",
    "# Final version of the code\n",
    "import tkinter as tk\n",
    "from tkinter import filedialog\n",
    "from PIL import Image, ImageTk\n",
    "import numpy as np\n",
    "import tensorflow as tf\n",
    "\n",
    "model = tf.keras.models.load_model(\"./trained_model/traffic_classifier_v4.h5\")\n",
    "\n",
    "# الكلاسات\n",
    "classes = {\n",
    "    0: 'speed limit 20', 1: 'speed limit 30', 2: 'speed limit 50', 3: 'speed limit 60',\n",
    "    4: 'speed limit 70', 5: 'speed limit 80', 6: 'End of speed limit 80', 7: 'speed limit 100',\n",
    "    8: 'speed limit 120', 9: 'No overtaking', 10: 'No overtaking trucks', 11: 'Crossroads ahead',\n",
    "    12: 'priority road', 13: 'Give way', 14: 'Stop', 15: 'No vehicles',\n",
    "    16: 'Vehicles over 3.5 tons prohibited', 17: 'No entry', 18: 'unknown Danger',\n",
    "    19: 'Left Curve ahead', 20: 'Right Curve ahead', 21: 'Double Bend First to the Left',\n",
    "    22: 'Uneven Road', 23: 'Slippery Road', 24: 'Road narrows on the left', 25: 'Road Work',\n",
    "    26: 'Traffic signals', 27: 'Pedestrians crossing', 28: 'Children crossing', 29: 'Bicycles crossing',\n",
    "    30: 'Beware of ice/snow', 31: 'Wild animals crossing', 32: 'End of all speed and passing limits',\n",
    "    33: 'Turn right ahead', 34: 'Turn left ahead', 35: 'Ahead only', 36: 'Go straight or right',\n",
    "    37: 'Go straight or left', 38: 'Keep right', 39: 'Keep left', 40: 'Roundabout mandatory',\n",
    "    41: 'End of no passing', 42: 'End of no passing by trucks',\n",
    "}\n",
    "\n",
    "# معالجة الصورة\n",
    "def preprocess_image(img_path):\n",
    "    img = Image.open(img_path).resize((30, 30))\n",
    "    img = np.array(img)\n",
    "    if img.shape[-1] != 3:\n",
    "        img = img[:, :, :3]\n",
    "    img = np.expand_dims(img, axis=0)\n",
    "    return img\n",
    "\n",
    "# التنبؤ\n",
    "def predict(img_path):\n",
    "    img = preprocess_image(img_path)\n",
    "    prediction = model.predict(img)\n",
    "    class_index = int(np.argmax(prediction))\n",
    "    confidence = float(np.max(prediction))\n",
    "    return class_index, confidence\n",
    "\n",
    "# رفع الصورة\n",
    "def upload_image():\n",
    "    file_path = filedialog.askopenfilename()\n",
    "    if file_path:\n",
    "        image = Image.open(file_path).resize((150, 150))\n",
    "        photo = ImageTk.PhotoImage(image)\n",
    "        label_img.configure(image=photo)\n",
    "        label_img.image = photo\n",
    "        class_index, confidence = predict(file_path)\n",
    "        result_text = f\"Class: {class_index} - {classes.get(class_index, 'Unknown')}\\nConfidence: {confidence*100:.2f}%\"\n",
    "        label_result.configure(text=result_text)\n",
    "\n",
    "# واجهة البرنامج\n",
    "root = tk.Tk()\n",
    "root.title(\"Traffic Sign Classifier\")\n",
    "root.geometry(\"600x600\")\n",
    "\n",
    "# زر رفع الصورة\n",
    "btn_upload = tk.Button(root, text=\"Upload Image\", command=upload_image, font=(\"Helvetica\", 14))\n",
    "btn_upload.pack(pady=10)\n",
    "\n",
    "# عرض الصورة\n",
    "label_img = tk.Label(root)\n",
    "label_img.pack(pady=10)\n",
    "\n",
    "# عرض النتيجة\n",
    "label_result = tk.Label(root, text=\"\", font=(\"Helvetica\", 16))\n",
    "label_result.pack(pady=10)\n",
    "\n",
    "# معلومات المشروع\n",
    "info_text = (\n",
    "    \"Project Created By:\\n\"\n",
    "    \"Youssef Mustafa Hussein\\n\"\n",
    "label_info = tk.Label(root, text=info_text, font=(\"Helvetica\", 12), justify=\"center\")\n",
    "label_info.pack(side=\"bottom\", pady=20)\n",
    "\n",
    "# تشغيل البرنامج\n",
    "root.mainloop()\n"
   ]
  }
 ],
 "metadata": {
  "kernelspec": {
   "display_name": "cnn_gui",
   "language": "python",
   "name": "python3"
  },
  "language_info": {
   "codemirror_mode": {
    "name": "ipython",
    "version": 3
   },
   "file_extension": ".py",
   "mimetype": "text/x-python",
   "name": "python",
   "nbconvert_exporter": "python",
   "pygments_lexer": "ipython3",
   "version": "3.8.20"
  }
 },
 "nbformat": 4,
 "nbformat_minor": 5
}
   ممكن تبدل بقي ده ب ديزاين حلو  كده من بتوعنا بتوع streamlit ونودي فيه ملف app.py
